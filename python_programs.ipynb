{
 "cells": [
  {
   "cell_type": "code",
   "execution_count": 50,
   "id": "1b890b90",
   "metadata": {},
   "outputs": [],
   "source": [
    "# generate nth fibonacci series\n",
    "def gen_fibonacii(size):\n",
    "    ds = [0, 1]\n",
    "    for i in range(1, size):\n",
    "        ds.append(sum(ds[len(ds)-2:len(ds)]))\n",
    "    \n",
    "    return ds[size]"
   ]
  },
  {
   "cell_type": "code",
   "execution_count": 54,
   "id": "ea689971",
   "metadata": {},
   "outputs": [
    {
     "data": {
      "text/plain": [
       "34"
      ]
     },
     "execution_count": 54,
     "metadata": {},
     "output_type": "execute_result"
    }
   ],
   "source": [
    "gen_fibonacii(9)"
   ]
  },
  {
   "cell_type": "code",
   "execution_count": 93,
   "id": "066153f0",
   "metadata": {},
   "outputs": [],
   "source": [
    "# check armstrong numbers\n",
    "def check_armstrong_num(num):\n",
    "    numTstr = str(num)\n",
    "    each_num = [char for char in numTstr]\n",
    "    each_cube = []\n",
    "    for i in range(len(each_num)):\n",
    "        each_cube.append(int(each_num[i])**3)\n",
    "    if sum(each_cube) == num:\n",
    "        print(\"Number is Armstrong number\")\n",
    "    else:\n",
    "        print(\"Number is not an Armstrong number\")"
   ]
  },
  {
   "cell_type": "code",
   "execution_count": 100,
   "id": "b9ee321a",
   "metadata": {},
   "outputs": [
    {
     "name": "stdout",
     "output_type": "stream",
     "text": [
      "Number is not an Armstrong number\n"
     ]
    }
   ],
   "source": [
    "check_armstrong_num(2)"
   ]
  },
  {
   "cell_type": "code",
   "execution_count": 137,
   "id": "943ecc94",
   "metadata": {},
   "outputs": [],
   "source": [
    "# reverse list\n",
    "def reverse_list(to_r):\n",
    "    length = len(to_r)\n",
    "    reverse_list = []\n",
    "    for i in range(1, length+1):\n",
    "        reverse_list.append(to_r[length-i])\n",
    "    \n",
    "    return reverse_list"
   ]
  },
  {
   "cell_type": "code",
   "execution_count": 151,
   "id": "b7284eaa",
   "metadata": {},
   "outputs": [],
   "source": [
    "l = [i for i in range(0,15)]"
   ]
  },
  {
   "cell_type": "code",
   "execution_count": 152,
   "id": "de3e2f15",
   "metadata": {},
   "outputs": [
    {
     "name": "stdout",
     "output_type": "stream",
     "text": [
      "List we want to reverse\n",
      "[0, 1, 2, 3, 4, 5, 6, 7, 8, 9, 10, 11, 12, 13, 14]\n",
      "Reverse using custom func\n"
     ]
    },
    {
     "data": {
      "text/plain": [
       "[14, 13, 12, 11, 10, 9, 8, 7, 6, 5, 4, 3, 2, 1, 0]"
      ]
     },
     "execution_count": 152,
     "metadata": {},
     "output_type": "execute_result"
    }
   ],
   "source": [
    "print(\"List we want to reverse\")\n",
    "print(l)\n",
    "print(\"Reverse using custom func\")\n",
    "reverse_list(l)"
   ]
  },
  {
   "cell_type": "code",
   "execution_count": 12,
   "id": "9747f865",
   "metadata": {},
   "outputs": [],
   "source": [
    "# multiply all elements within list\n",
    "sample_list = [2,3,4]\n",
    "\n",
    "def multiply_list_ele(inp):\n",
    "    final = [1]\n",
    "    for i in range(len(inp)):\n",
    "        final.append(inp[i]*final[i])\n",
    "    \n",
    "    return final[len(inp)]\n",
    "    "
   ]
  },
  {
   "cell_type": "code",
   "execution_count": 17,
   "id": "28a2fdb7",
   "metadata": {},
   "outputs": [
    {
     "data": {
      "text/plain": [
       "87178291200"
      ]
     },
     "execution_count": 17,
     "metadata": {},
     "output_type": "execute_result"
    }
   ],
   "source": [
    "sample_list = [i for i in range(1,15)]\n",
    "multiply_list_ele(sample_list)"
   ]
  },
  {
   "cell_type": "code",
   "execution_count": 18,
   "id": "d420872b",
   "metadata": {},
   "outputs": [],
   "source": [
    "def multiply_list_ele(inp):\n",
    "    result = 1\n",
    "    for i in range(len(inp)):\n",
    "        result *= inp[i]\n",
    "    \n",
    "    return result"
   ]
  },
  {
   "cell_type": "code",
   "execution_count": 19,
   "id": "2e6b3127",
   "metadata": {},
   "outputs": [
    {
     "data": {
      "text/plain": [
       "87178291200"
      ]
     },
     "execution_count": 19,
     "metadata": {},
     "output_type": "execute_result"
    }
   ],
   "source": [
    "sample_list = [i for i in range(1,15)]\n",
    "multiply_list_ele(sample_list)"
   ]
  },
  {
   "cell_type": "code",
   "execution_count": 162,
   "id": "ede21172",
   "metadata": {},
   "outputs": [],
   "source": [
    "# divide list into N chunks\n",
    "my_list = ['geeks', 'for', 'geeks', 'like',\n",
    "           'geeky','nerdy', 'geek', 'love',\n",
    "               'questions','words', 'life']"
   ]
  },
  {
   "cell_type": "code",
   "execution_count": 169,
   "id": "2f3b6185",
   "metadata": {},
   "outputs": [],
   "source": [
    "def divide_list(L, n):\n",
    "    for i in range(0, len(L), n):\n",
    "        print(L[i:i+n])\n",
    "    "
   ]
  },
  {
   "cell_type": "code",
   "execution_count": 170,
   "id": "5d8b294b",
   "metadata": {},
   "outputs": [
    {
     "name": "stdout",
     "output_type": "stream",
     "text": [
      "['geeks', 'for', 'geeks', 'like', 'geeky']\n",
      "['nerdy', 'geek', 'love', 'questions', 'words']\n",
      "['life']\n"
     ]
    }
   ],
   "source": [
    "divide_list(my_list, 5)"
   ]
  },
  {
   "cell_type": "code",
   "execution_count": 168,
   "id": "817af632",
   "metadata": {},
   "outputs": [
    {
     "name": "stdout",
     "output_type": "stream",
     "text": [
      "0 5\n",
      "5 10\n",
      "10 15\n"
     ]
    }
   ],
   "source": [
    "for i in range(0, 11, 5):\n",
    "    print(i, i+5)"
   ]
  },
  {
   "cell_type": "code",
   "execution_count": 5,
   "id": "63fe5da8",
   "metadata": {},
   "outputs": [],
   "source": [
    "# sort dictionary by value\n",
    "Sample_Dict = {0: 10, 1: 20, 2: 5, 3: 45}"
   ]
  },
  {
   "cell_type": "code",
   "execution_count": 6,
   "id": "35ef2ffb",
   "metadata": {},
   "outputs": [
    {
     "data": {
      "text/plain": [
       "{0: 10, 1: 20, 2: 5, 3: 45}"
      ]
     },
     "execution_count": 6,
     "metadata": {},
     "output_type": "execute_result"
    }
   ],
   "source": [
    "Sample_Dict"
   ]
  },
  {
   "cell_type": "code",
   "execution_count": 18,
   "id": "3b867ade",
   "metadata": {},
   "outputs": [
    {
     "data": {
      "text/plain": [
       "{0: 5, 1: 10, 2: 20, 3: 45}"
      ]
     },
     "execution_count": 18,
     "metadata": {},
     "output_type": "execute_result"
    }
   ],
   "source": [
    "keys = []\n",
    "val = []\n",
    "for i,j in Sample_Dict.items():\n",
    "    keys.append(i)\n",
    "    val.append(j)\n",
    "val.sort()\n",
    "\n",
    "dict(zip(keys, val))"
   ]
  },
  {
   "cell_type": "code",
   "execution_count": 19,
   "id": "27dbd74b",
   "metadata": {},
   "outputs": [],
   "source": [
    "import operator"
   ]
  },
  {
   "cell_type": "code",
   "execution_count": 24,
   "id": "896f87ba",
   "metadata": {},
   "outputs": [
    {
     "data": {
      "text/plain": [
       "[(3, 45), (1, 20), (0, 10), (2, 5)]"
      ]
     },
     "execution_count": 24,
     "metadata": {},
     "output_type": "execute_result"
    }
   ],
   "source": [
    "sorted(Sample_Dict.items(), key = operator.itemgetter(1), reverse=True)"
   ]
  },
  {
   "cell_type": "code",
   "execution_count": 25,
   "id": "c6c78e19",
   "metadata": {},
   "outputs": [
    {
     "data": {
      "text/plain": [
       "{0: 10, 1: 20, 2: 5, 3: 45}"
      ]
     },
     "execution_count": 25,
     "metadata": {},
     "output_type": "execute_result"
    }
   ],
   "source": [
    "# Python script to add a key to a dictionary\n",
    "# Sample Dictionary : {0: 10, 1: 20}\n",
    "# Expected Result : {0: 10, 1: 20, 2: 30}\n",
    "Sample_Dict"
   ]
  },
  {
   "cell_type": "code",
   "execution_count": 26,
   "id": "e1deecb3",
   "metadata": {},
   "outputs": [],
   "source": [
    "Sample_Dict[4] = 100"
   ]
  },
  {
   "cell_type": "code",
   "execution_count": 27,
   "id": "4976a634",
   "metadata": {},
   "outputs": [
    {
     "data": {
      "text/plain": [
       "{0: 10, 1: 20, 2: 5, 3: 45, 4: 100}"
      ]
     },
     "execution_count": 27,
     "metadata": {},
     "output_type": "execute_result"
    }
   ],
   "source": [
    "Sample_Dict"
   ]
  },
  {
   "cell_type": "code",
   "execution_count": 29,
   "id": "6a265379",
   "metadata": {},
   "outputs": [
    {
     "data": {
      "text/plain": [
       "{0: 10, 1: 20, 2: 5, 3: 45, 4: 100}"
      ]
     },
     "execution_count": 29,
     "metadata": {},
     "output_type": "execute_result"
    }
   ],
   "source": [
    "# Python program to multiply all the items in a dictionary\n",
    "Sample_Dict"
   ]
  },
  {
   "cell_type": "code",
   "execution_count": 30,
   "id": "a1c91c54",
   "metadata": {},
   "outputs": [
    {
     "data": {
      "text/plain": [
       "4500000"
      ]
     },
     "execution_count": 30,
     "metadata": {},
     "output_type": "execute_result"
    }
   ],
   "source": [
    "# expeected output\n",
    "10*20*5*45*100"
   ]
  },
  {
   "cell_type": "code",
   "execution_count": 41,
   "id": "98fe2a07",
   "metadata": {},
   "outputs": [
    {
     "name": "stdout",
     "output_type": "stream",
     "text": [
      "4500000\n"
     ]
    }
   ],
   "source": [
    "result = 1\n",
    "for i in Sample_Dict.values():\n",
    "    result *= i\n",
    "print(result)"
   ]
  },
  {
   "cell_type": "code",
   "execution_count": 42,
   "id": "7b42e84c",
   "metadata": {},
   "outputs": [],
   "source": [
    "# Python script to print a dictionary where the keys \n",
    "# are numbers between 1 and 15 (both included) and the values are square of keys.\n",
    "keys = [i for i in range(1, 16)]"
   ]
  },
  {
   "cell_type": "code",
   "execution_count": 44,
   "id": "2abc1f20",
   "metadata": {},
   "outputs": [],
   "source": [
    "val = [x**2 for x in keys]"
   ]
  },
  {
   "cell_type": "code",
   "execution_count": 46,
   "id": "3d30917d",
   "metadata": {},
   "outputs": [],
   "source": [
    "new_dict = dict(zip(keys, val))"
   ]
  },
  {
   "cell_type": "code",
   "execution_count": 47,
   "id": "3d756207",
   "metadata": {},
   "outputs": [
    {
     "data": {
      "text/plain": [
       "{1: 1,\n",
       " 2: 4,\n",
       " 3: 9,\n",
       " 4: 16,\n",
       " 5: 25,\n",
       " 6: 36,\n",
       " 7: 49,\n",
       " 8: 64,\n",
       " 9: 81,\n",
       " 10: 100,\n",
       " 11: 121,\n",
       " 12: 144,\n",
       " 13: 169,\n",
       " 14: 196,\n",
       " 15: 225}"
      ]
     },
     "execution_count": 47,
     "metadata": {},
     "output_type": "execute_result"
    }
   ],
   "source": [
    "new_dict"
   ]
  },
  {
   "cell_type": "code",
   "execution_count": 51,
   "id": "78fdb552",
   "metadata": {},
   "outputs": [],
   "source": [
    "sample_data = {'1':['a','b'], '2':['c','d']}\n",
    "# Expected Output:\n",
    "# ac\n",
    "# ad\n",
    "# bc\n",
    "# bd"
   ]
  },
  {
   "cell_type": "code",
   "execution_count": 52,
   "id": "d632b551",
   "metadata": {},
   "outputs": [
    {
     "data": {
      "text/plain": [
       "{'1': ['a', 'b'], '2': ['c', 'd']}"
      ]
     },
     "execution_count": 52,
     "metadata": {},
     "output_type": "execute_result"
    }
   ],
   "source": [
    "sample_data"
   ]
  },
  {
   "cell_type": "code",
   "execution_count": 63,
   "id": "c7e26228",
   "metadata": {},
   "outputs": [],
   "source": [
    "list1 = sample_data['1']\n",
    "list2 = sample_data['2']"
   ]
  },
  {
   "cell_type": "code",
   "execution_count": 64,
   "id": "2cb5572c",
   "metadata": {},
   "outputs": [
    {
     "name": "stdout",
     "output_type": "stream",
     "text": [
      "ac\n",
      "ad\n",
      "bc\n",
      "bd\n"
     ]
    }
   ],
   "source": [
    "for i in range(2):\n",
    "    for j in range(2):\n",
    "        print(list1[i]+list2[j])"
   ]
  },
  {
   "cell_type": "code",
   "execution_count": 4,
   "id": "d5d82e8b",
   "metadata": {},
   "outputs": [
    {
     "name": "stdout",
     "output_type": "stream",
     "text": [
      "TD-10 Algorithm\n"
     ]
    }
   ],
   "source": [
    "print('TD-%d Algorithm' % 10)"
   ]
  },
  {
   "cell_type": "code",
   "execution_count": 311,
   "id": "4538f228",
   "metadata": {},
   "outputs": [],
   "source": [
    "import pandas as pd"
   ]
  },
  {
   "cell_type": "code",
   "execution_count": 312,
   "id": "8671f714",
   "metadata": {},
   "outputs": [],
   "source": [
    "voc = ['walmart', 'us', 'market', 'box', 'this', 'is', 'sample']"
   ]
  },
  {
   "cell_type": "code",
   "execution_count": 320,
   "id": "22608812",
   "metadata": {},
   "outputs": [],
   "source": [
    "df = {'label': ['yes', 'no'],\n",
    "     'col1': [['walmart', 'us', 'market', 'box', 'walmart'], \n",
    "              ['this', 'is', 'sample', 'market', 'sample']]}"
   ]
  },
  {
   "cell_type": "code",
   "execution_count": 304,
   "id": "eedc9075",
   "metadata": {},
   "outputs": [],
   "source": [
    "df = pd.DataFrame(df)"
   ]
  },
  {
   "cell_type": "code",
   "execution_count": 305,
   "id": "3a3256d1",
   "metadata": {},
   "outputs": [],
   "source": [
    "label = []\n",
    "word = []\n",
    "freq = []\n",
    "for j in range(len(voc)):\n",
    "    for i in range(df.shape[0]):\n",
    "        label.append(df.iloc[i]['label'])\n",
    "        word.append(voc[j])\n",
    "        freq.append(df.iloc[i]['col1'].count(voc[j]))"
   ]
  },
  {
   "cell_type": "code",
   "execution_count": 306,
   "id": "572d1c69",
   "metadata": {},
   "outputs": [],
   "source": [
    "data = list(zip(label,word, freq))"
   ]
  },
  {
   "cell_type": "code",
   "execution_count": 307,
   "id": "459a10e4",
   "metadata": {},
   "outputs": [],
   "source": [
    "df = pd.DataFrame(data, columns=['labels', 'word', 'value'])"
   ]
  },
  {
   "cell_type": "code",
   "execution_count": 308,
   "id": "a1ca5c34",
   "metadata": {},
   "outputs": [],
   "source": [
    "pvt = df.pivot('labels', 'word', 'value')"
   ]
  },
  {
   "cell_type": "code",
   "execution_count": 309,
   "id": "31355df7",
   "metadata": {},
   "outputs": [],
   "source": [
    "reshaped_df = pvt.rename_axis(None, axis=1).reset_index()"
   ]
  },
  {
   "cell_type": "code",
   "execution_count": 310,
   "id": "a214b299",
   "metadata": {},
   "outputs": [
    {
     "data": {
      "text/html": [
       "<div>\n",
       "<style scoped>\n",
       "    .dataframe tbody tr th:only-of-type {\n",
       "        vertical-align: middle;\n",
       "    }\n",
       "\n",
       "    .dataframe tbody tr th {\n",
       "        vertical-align: top;\n",
       "    }\n",
       "\n",
       "    .dataframe thead th {\n",
       "        text-align: right;\n",
       "    }\n",
       "</style>\n",
       "<table border=\"1\" class=\"dataframe\">\n",
       "  <thead>\n",
       "    <tr style=\"text-align: right;\">\n",
       "      <th></th>\n",
       "      <th>labels</th>\n",
       "      <th>box</th>\n",
       "      <th>is</th>\n",
       "      <th>market</th>\n",
       "      <th>sample</th>\n",
       "      <th>this</th>\n",
       "      <th>us</th>\n",
       "      <th>walmart</th>\n",
       "    </tr>\n",
       "  </thead>\n",
       "  <tbody>\n",
       "    <tr>\n",
       "      <th>0</th>\n",
       "      <td>no</td>\n",
       "      <td>0</td>\n",
       "      <td>1</td>\n",
       "      <td>1</td>\n",
       "      <td>2</td>\n",
       "      <td>1</td>\n",
       "      <td>0</td>\n",
       "      <td>0</td>\n",
       "    </tr>\n",
       "    <tr>\n",
       "      <th>1</th>\n",
       "      <td>yes</td>\n",
       "      <td>1</td>\n",
       "      <td>0</td>\n",
       "      <td>1</td>\n",
       "      <td>0</td>\n",
       "      <td>0</td>\n",
       "      <td>0</td>\n",
       "      <td>2</td>\n",
       "    </tr>\n",
       "  </tbody>\n",
       "</table>\n",
       "</div>"
      ],
      "text/plain": [
       "  labels  box  is  market  sample  this  us  walmart\n",
       "0     no    0   1       1       2     1   0        0\n",
       "1    yes    1   0       1       0     0   0        2"
      ]
     },
     "execution_count": 310,
     "metadata": {},
     "output_type": "execute_result"
    }
   ],
   "source": [
    "reshaped_df"
   ]
  },
  {
   "cell_type": "code",
   "execution_count": null,
   "id": "7fe62009",
   "metadata": {},
   "outputs": [],
   "source": []
  },
  {
   "cell_type": "code",
   "execution_count": 328,
   "id": "6ee2bd67",
   "metadata": {},
   "outputs": [],
   "source": [
    "df = pd.DataFrame([\n",
    "    { 'label': 'spam', 'message': 'this is sample message' },\n",
    "    { 'label': 'ham', 'message': 'this is another sample messagae' }\n",
    "])"
   ]
  },
  {
   "cell_type": "code",
   "execution_count": 329,
   "id": "a9f4bf2e",
   "metadata": {},
   "outputs": [],
   "source": [
    "df = pd.DataFrame(df)"
   ]
  },
  {
   "cell_type": "code",
   "execution_count": 330,
   "id": "602b1a09",
   "metadata": {},
   "outputs": [
    {
     "data": {
      "text/html": [
       "<div>\n",
       "<style scoped>\n",
       "    .dataframe tbody tr th:only-of-type {\n",
       "        vertical-align: middle;\n",
       "    }\n",
       "\n",
       "    .dataframe tbody tr th {\n",
       "        vertical-align: top;\n",
       "    }\n",
       "\n",
       "    .dataframe thead th {\n",
       "        text-align: right;\n",
       "    }\n",
       "</style>\n",
       "<table border=\"1\" class=\"dataframe\">\n",
       "  <thead>\n",
       "    <tr style=\"text-align: right;\">\n",
       "      <th></th>\n",
       "      <th>label</th>\n",
       "      <th>message</th>\n",
       "    </tr>\n",
       "  </thead>\n",
       "  <tbody>\n",
       "    <tr>\n",
       "      <th>0</th>\n",
       "      <td>spam</td>\n",
       "      <td>this is sample message</td>\n",
       "    </tr>\n",
       "    <tr>\n",
       "      <th>1</th>\n",
       "      <td>ham</td>\n",
       "      <td>this is another sample messagae</td>\n",
       "    </tr>\n",
       "  </tbody>\n",
       "</table>\n",
       "</div>"
      ],
      "text/plain": [
       "  label                          message\n",
       "0  spam           this is sample message\n",
       "1   ham  this is another sample messagae"
      ]
     },
     "execution_count": 330,
     "metadata": {},
     "output_type": "execute_result"
    }
   ],
   "source": [
    "df"
   ]
  },
  {
   "cell_type": "code",
   "execution_count": 331,
   "id": "fe3386ac",
   "metadata": {},
   "outputs": [],
   "source": [
    "from sklearn.feature_extraction.text import CountVectorizer"
   ]
  },
  {
   "cell_type": "code",
   "execution_count": 333,
   "id": "d5201662",
   "metadata": {},
   "outputs": [
    {
     "data": {
      "text/html": [
       "<div>\n",
       "<style scoped>\n",
       "    .dataframe tbody tr th:only-of-type {\n",
       "        vertical-align: middle;\n",
       "    }\n",
       "\n",
       "    .dataframe tbody tr th {\n",
       "        vertical-align: top;\n",
       "    }\n",
       "\n",
       "    .dataframe thead th {\n",
       "        text-align: right;\n",
       "    }\n",
       "</style>\n",
       "<table border=\"1\" class=\"dataframe\">\n",
       "  <thead>\n",
       "    <tr style=\"text-align: right;\">\n",
       "      <th></th>\n",
       "      <th>another</th>\n",
       "      <th>is</th>\n",
       "      <th>messagae</th>\n",
       "      <th>message</th>\n",
       "      <th>sample</th>\n",
       "      <th>this</th>\n",
       "    </tr>\n",
       "    <tr>\n",
       "      <th>label</th>\n",
       "      <th></th>\n",
       "      <th></th>\n",
       "      <th></th>\n",
       "      <th></th>\n",
       "      <th></th>\n",
       "      <th></th>\n",
       "    </tr>\n",
       "  </thead>\n",
       "  <tbody>\n",
       "    <tr>\n",
       "      <th>spam</th>\n",
       "      <td>0</td>\n",
       "      <td>1</td>\n",
       "      <td>0</td>\n",
       "      <td>1</td>\n",
       "      <td>1</td>\n",
       "      <td>1</td>\n",
       "    </tr>\n",
       "    <tr>\n",
       "      <th>ham</th>\n",
       "      <td>1</td>\n",
       "      <td>1</td>\n",
       "      <td>1</td>\n",
       "      <td>0</td>\n",
       "      <td>1</td>\n",
       "      <td>1</td>\n",
       "    </tr>\n",
       "  </tbody>\n",
       "</table>\n",
       "</div>"
      ],
      "text/plain": [
       "       another  is  messagae  message  sample  this\n",
       "label                                              \n",
       "spam         0   1         0        1       1     1\n",
       "ham          1   1         1        0       1     1"
      ]
     },
     "execution_count": 333,
     "metadata": {},
     "output_type": "execute_result"
    }
   ],
   "source": [
    "vectorizer = CountVectorizer()\n",
    "\n",
    "# Use the content column instead of our single text variable\n",
    "matrix = vectorizer.fit_transform(df.message)\n",
    "counts = pd.DataFrame(matrix.toarray(),\n",
    "                  index=df.label,\n",
    "                  columns=vectorizer.get_feature_names())\n",
    "\n",
    "counts.head()"
   ]
  },
  {
   "cell_type": "code",
   "execution_count": null,
   "id": "2d97d9ff",
   "metadata": {},
   "outputs": [],
   "source": []
  }
 ],
 "metadata": {
  "kernelspec": {
   "display_name": "Python 3",
   "language": "python",
   "name": "python3"
  },
  "language_info": {
   "codemirror_mode": {
    "name": "ipython",
    "version": 3
   },
   "file_extension": ".py",
   "mimetype": "text/x-python",
   "name": "python",
   "nbconvert_exporter": "python",
   "pygments_lexer": "ipython3",
   "version": "3.6.5"
  }
 },
 "nbformat": 4,
 "nbformat_minor": 5
}
