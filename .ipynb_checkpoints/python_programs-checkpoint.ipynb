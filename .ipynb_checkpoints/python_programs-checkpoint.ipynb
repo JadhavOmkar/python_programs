{
 "cells": [
  {
   "cell_type": "code",
   "execution_count": 50,
   "id": "ca628ecc",
   "metadata": {},
   "outputs": [],
   "source": [
    "# generate nth fibonacci series\n",
    "def gen_fibonacii(size):\n",
    "    ds = [0, 1]\n",
    "    for i in range(1, size):\n",
    "        ds.append(sum(ds[len(ds)-2:len(ds)]))\n",
    "    \n",
    "    return ds[size]"
   ]
  },
  {
   "cell_type": "code",
   "execution_count": 54,
   "id": "4750588c",
   "metadata": {},
   "outputs": [
    {
     "data": {
      "text/plain": [
       "34"
      ]
     },
     "execution_count": 54,
     "metadata": {},
     "output_type": "execute_result"
    }
   ],
   "source": [
    "gen_fibonacii(9)"
   ]
  },
  {
   "cell_type": "code",
   "execution_count": 93,
   "id": "26090930",
   "metadata": {},
   "outputs": [],
   "source": [
    "# check armstrong numbers\n",
    "def check_armstrong_num(num):\n",
    "    numTstr = str(num)\n",
    "    each_num = [char for char in numTstr]\n",
    "    each_cube = []\n",
    "    for i in range(len(each_num)):\n",
    "        each_cube.append(int(each_num[i])**3)\n",
    "    if sum(each_cube) == num:\n",
    "        print(\"Number is Armstrong number\")\n",
    "    else:\n",
    "        print(\"Number is not an Armstrong number\")"
   ]
  },
  {
   "cell_type": "code",
   "execution_count": 100,
   "id": "95cdad8f",
   "metadata": {},
   "outputs": [
    {
     "name": "stdout",
     "output_type": "stream",
     "text": [
      "Number is not an Armstrong number\n"
     ]
    }
   ],
   "source": [
    "check_armstrong_num(2)"
   ]
  },
  {
   "cell_type": "code",
   "execution_count": 137,
   "id": "79d77c46",
   "metadata": {},
   "outputs": [],
   "source": [
    "# reverse list\n",
    "def reverse_list(to_r):\n",
    "    length = len(to_r)\n",
    "    reverse_list = []\n",
    "    for i in range(1, length+1):\n",
    "        reverse_list.append(to_r[length-i])\n",
    "    \n",
    "    return reverse_list"
   ]
  },
  {
   "cell_type": "code",
   "execution_count": 151,
   "id": "17ef4114",
   "metadata": {},
   "outputs": [],
   "source": [
    "l = [i for i in range(0,15)]"
   ]
  },
  {
   "cell_type": "code",
   "execution_count": 152,
   "id": "b8272b90",
   "metadata": {},
   "outputs": [
    {
     "name": "stdout",
     "output_type": "stream",
     "text": [
      "List we want to reverse\n",
      "[0, 1, 2, 3, 4, 5, 6, 7, 8, 9, 10, 11, 12, 13, 14]\n",
      "Reverse using custom func\n"
     ]
    },
    {
     "data": {
      "text/plain": [
       "[14, 13, 12, 11, 10, 9, 8, 7, 6, 5, 4, 3, 2, 1, 0]"
      ]
     },
     "execution_count": 152,
     "metadata": {},
     "output_type": "execute_result"
    }
   ],
   "source": [
    "print(\"List we want to reverse\")\n",
    "print(l)\n",
    "print(\"Reverse using custom func\")\n",
    "reverse_list(l)"
   ]
  },
  {
   "cell_type": "code",
   "execution_count": 12,
   "id": "00e8591e",
   "metadata": {},
   "outputs": [],
   "source": [
    "# multiply all elements within list\n",
    "sample_list = [2,3,4]\n",
    "\n",
    "def multiply_list_ele(inp):\n",
    "    final = [1]\n",
    "    for i in range(len(inp)):\n",
    "        final.append(inp[i]*final[i])\n",
    "    \n",
    "    return final[len(inp)]\n",
    "    "
   ]
  },
  {
   "cell_type": "code",
   "execution_count": 17,
   "id": "09a4a5da",
   "metadata": {},
   "outputs": [
    {
     "data": {
      "text/plain": [
       "87178291200"
      ]
     },
     "execution_count": 17,
     "metadata": {},
     "output_type": "execute_result"
    }
   ],
   "source": [
    "sample_list = [i for i in range(1,15)]\n",
    "multiply_list_ele(sample_list)"
   ]
  },
  {
   "cell_type": "code",
   "execution_count": 18,
   "id": "a46cdcee",
   "metadata": {},
   "outputs": [],
   "source": [
    "def multiply_list_ele(inp):\n",
    "    result = 1\n",
    "    for i in range(len(inp)):\n",
    "        result *= inp[i]\n",
    "    \n",
    "    return result"
   ]
  },
  {
   "cell_type": "code",
   "execution_count": 19,
   "id": "52744b53",
   "metadata": {},
   "outputs": [
    {
     "data": {
      "text/plain": [
       "87178291200"
      ]
     },
     "execution_count": 19,
     "metadata": {},
     "output_type": "execute_result"
    }
   ],
   "source": [
    "sample_list = [i for i in range(1,15)]\n",
    "multiply_list_ele(sample_list)"
   ]
  },
  {
   "cell_type": "code",
   "execution_count": 162,
   "id": "7ec52651",
   "metadata": {},
   "outputs": [],
   "source": [
    "# divide list into N chunks\n",
    "my_list = ['geeks', 'for', 'geeks', 'like',\n",
    "           'geeky','nerdy', 'geek', 'love',\n",
    "               'questions','words', 'life']"
   ]
  },
  {
   "cell_type": "code",
   "execution_count": 169,
   "id": "6156bee5",
   "metadata": {},
   "outputs": [],
   "source": [
    "def divide_list(L, n):\n",
    "    for i in range(0, len(L), n):\n",
    "        print(L[i:i+n])\n",
    "    "
   ]
  },
  {
   "cell_type": "code",
   "execution_count": 170,
   "id": "904c1ef0",
   "metadata": {},
   "outputs": [
    {
     "name": "stdout",
     "output_type": "stream",
     "text": [
      "['geeks', 'for', 'geeks', 'like', 'geeky']\n",
      "['nerdy', 'geek', 'love', 'questions', 'words']\n",
      "['life']\n"
     ]
    }
   ],
   "source": [
    "divide_list(my_list, 5)"
   ]
  },
  {
   "cell_type": "code",
   "execution_count": 168,
   "id": "64aad738",
   "metadata": {},
   "outputs": [
    {
     "name": "stdout",
     "output_type": "stream",
     "text": [
      "0 5\n",
      "5 10\n",
      "10 15\n"
     ]
    }
   ],
   "source": [
    "for i in range(0, 11, 5):\n",
    "    print(i, i+5)"
   ]
  },
  {
   "cell_type": "code",
   "execution_count": 5,
   "id": "5e51b10d",
   "metadata": {},
   "outputs": [],
   "source": [
    "# sort dictionary by value\n",
    "Sample_Dict = {0: 10, 1: 20, 2: 5, 3: 45}"
   ]
  },
  {
   "cell_type": "code",
   "execution_count": 6,
   "id": "4bab6d58",
   "metadata": {},
   "outputs": [
    {
     "data": {
      "text/plain": [
       "{0: 10, 1: 20, 2: 5, 3: 45}"
      ]
     },
     "execution_count": 6,
     "metadata": {},
     "output_type": "execute_result"
    }
   ],
   "source": [
    "Sample_Dict"
   ]
  },
  {
   "cell_type": "code",
   "execution_count": 18,
   "id": "648389f9",
   "metadata": {},
   "outputs": [
    {
     "data": {
      "text/plain": [
       "{0: 5, 1: 10, 2: 20, 3: 45}"
      ]
     },
     "execution_count": 18,
     "metadata": {},
     "output_type": "execute_result"
    }
   ],
   "source": [
    "keys = []\n",
    "val = []\n",
    "for i,j in Sample_Dict.items():\n",
    "    keys.append(i)\n",
    "    val.append(j)\n",
    "val.sort()\n",
    "\n",
    "dict(zip(keys, val))"
   ]
  },
  {
   "cell_type": "code",
   "execution_count": 19,
   "id": "4a916f73",
   "metadata": {},
   "outputs": [],
   "source": [
    "import operator"
   ]
  },
  {
   "cell_type": "code",
   "execution_count": 24,
   "id": "bd4e7aa7",
   "metadata": {},
   "outputs": [
    {
     "data": {
      "text/plain": [
       "[(3, 45), (1, 20), (0, 10), (2, 5)]"
      ]
     },
     "execution_count": 24,
     "metadata": {},
     "output_type": "execute_result"
    }
   ],
   "source": [
    "sorted(Sample_Dict.items(), key = operator.itemgetter(1), reverse=True)"
   ]
  },
  {
   "cell_type": "code",
   "execution_count": 25,
   "id": "5355665c",
   "metadata": {},
   "outputs": [
    {
     "data": {
      "text/plain": [
       "{0: 10, 1: 20, 2: 5, 3: 45}"
      ]
     },
     "execution_count": 25,
     "metadata": {},
     "output_type": "execute_result"
    }
   ],
   "source": [
    "# Python script to add a key to a dictionary\n",
    "# Sample Dictionary : {0: 10, 1: 20}\n",
    "# Expected Result : {0: 10, 1: 20, 2: 30}\n",
    "Sample_Dict"
   ]
  },
  {
   "cell_type": "code",
   "execution_count": 26,
   "id": "4b60d23a",
   "metadata": {},
   "outputs": [],
   "source": [
    "Sample_Dict[4] = 100"
   ]
  },
  {
   "cell_type": "code",
   "execution_count": 27,
   "id": "0e0a3081",
   "metadata": {},
   "outputs": [
    {
     "data": {
      "text/plain": [
       "{0: 10, 1: 20, 2: 5, 3: 45, 4: 100}"
      ]
     },
     "execution_count": 27,
     "metadata": {},
     "output_type": "execute_result"
    }
   ],
   "source": [
    "Sample_Dict"
   ]
  },
  {
   "cell_type": "code",
   "execution_count": 29,
   "id": "e8567c20",
   "metadata": {},
   "outputs": [
    {
     "data": {
      "text/plain": [
       "{0: 10, 1: 20, 2: 5, 3: 45, 4: 100}"
      ]
     },
     "execution_count": 29,
     "metadata": {},
     "output_type": "execute_result"
    }
   ],
   "source": [
    "# Python program to multiply all the items in a dictionary\n",
    "Sample_Dict"
   ]
  },
  {
   "cell_type": "code",
   "execution_count": 30,
   "id": "a873c707",
   "metadata": {},
   "outputs": [
    {
     "data": {
      "text/plain": [
       "4500000"
      ]
     },
     "execution_count": 30,
     "metadata": {},
     "output_type": "execute_result"
    }
   ],
   "source": [
    "# expeected output\n",
    "10*20*5*45*100"
   ]
  },
  {
   "cell_type": "code",
   "execution_count": 41,
   "id": "35aff0ed",
   "metadata": {},
   "outputs": [
    {
     "name": "stdout",
     "output_type": "stream",
     "text": [
      "4500000\n"
     ]
    }
   ],
   "source": [
    "result = 1\n",
    "for i in Sample_Dict.values():\n",
    "    result *= i\n",
    "print(result)"
   ]
  },
  {
   "cell_type": "code",
   "execution_count": 42,
   "id": "8a412d68",
   "metadata": {},
   "outputs": [],
   "source": [
    "# Python script to print a dictionary where the keys \n",
    "# are numbers between 1 and 15 (both included) and the values are square of keys.\n",
    "keys = [i for i in range(1, 16)]"
   ]
  },
  {
   "cell_type": "code",
   "execution_count": 44,
   "id": "63cd4a09",
   "metadata": {},
   "outputs": [],
   "source": [
    "val = [x**2 for x in keys]"
   ]
  },
  {
   "cell_type": "code",
   "execution_count": 46,
   "id": "d3c08f0b",
   "metadata": {},
   "outputs": [],
   "source": [
    "new_dict = dict(zip(keys, val))"
   ]
  },
  {
   "cell_type": "code",
   "execution_count": 47,
   "id": "2d7dc4a2",
   "metadata": {},
   "outputs": [
    {
     "data": {
      "text/plain": [
       "{1: 1,\n",
       " 2: 4,\n",
       " 3: 9,\n",
       " 4: 16,\n",
       " 5: 25,\n",
       " 6: 36,\n",
       " 7: 49,\n",
       " 8: 64,\n",
       " 9: 81,\n",
       " 10: 100,\n",
       " 11: 121,\n",
       " 12: 144,\n",
       " 13: 169,\n",
       " 14: 196,\n",
       " 15: 225}"
      ]
     },
     "execution_count": 47,
     "metadata": {},
     "output_type": "execute_result"
    }
   ],
   "source": [
    "new_dict"
   ]
  },
  {
   "cell_type": "code",
   "execution_count": 51,
   "id": "bfd10e37",
   "metadata": {},
   "outputs": [],
   "source": [
    "sample_data = {'1':['a','b'], '2':['c','d']}\n",
    "# Expected Output:\n",
    "# ac\n",
    "# ad\n",
    "# bc\n",
    "# bd"
   ]
  },
  {
   "cell_type": "code",
   "execution_count": 52,
   "id": "a28e7364",
   "metadata": {},
   "outputs": [
    {
     "data": {
      "text/plain": [
       "{'1': ['a', 'b'], '2': ['c', 'd']}"
      ]
     },
     "execution_count": 52,
     "metadata": {},
     "output_type": "execute_result"
    }
   ],
   "source": [
    "sample_data"
   ]
  },
  {
   "cell_type": "code",
   "execution_count": 63,
   "id": "4c82da7f",
   "metadata": {},
   "outputs": [],
   "source": [
    "list1 = sample_data['1']\n",
    "list2 = sample_data['2']"
   ]
  },
  {
   "cell_type": "code",
   "execution_count": 64,
   "id": "b1a016ee",
   "metadata": {},
   "outputs": [
    {
     "name": "stdout",
     "output_type": "stream",
     "text": [
      "ac\n",
      "ad\n",
      "bc\n",
      "bd\n"
     ]
    }
   ],
   "source": [
    "for i in range(2):\n",
    "    for j in range(2):\n",
    "        print(list1[i]+list2[j])"
   ]
  },
  {
   "cell_type": "code",
   "execution_count": 4,
   "id": "1565b523",
   "metadata": {},
   "outputs": [
    {
     "name": "stdout",
     "output_type": "stream",
     "text": [
      "TD-10 Algorithm\n"
     ]
    }
   ],
   "source": [
    "print('TD-%d Algorithm' % 10)"
   ]
  },
  {
   "cell_type": "code",
   "execution_count": 25,
   "id": "e3a70e6b",
   "metadata": {},
   "outputs": [],
   "source": [
    "import yaml\n",
    "def get_params_yaml(config_name=None):\n",
    "    \"\"\"\n",
    "    Get configurations from .YAML file\n",
    "    :param config_name: name of the parameter (list/dictionary)\n",
    "    :return: parameter\n",
    "    \"\"\"\n",
    "    with open(\"C:/Users/X46776A/config.yaml\", 'r') as yml:\n",
    "        configs = yaml.full_load(yml)\n",
    "        if config_name is None:\n",
    "            param = configs\n",
    "        else:\n",
    "            param = configs[config_name]\n",
    "    return param"
   ]
  },
  {
   "cell_type": "code",
   "execution_count": 26,
   "id": "302e8e75",
   "metadata": {},
   "outputs": [
    {
     "data": {
      "text/plain": [
       "{'NUM_LIKE_ITEMS': 12,\n",
       " 'NLP_EXAGGERATE': 4,\n",
       " 'LI_DIST_EXAGGERATE': 9,\n",
       " 'LOW_SAMPLE_SIZE': 25,\n",
       " 'LOW_SIMILARITY': 0.8,\n",
       " 'NLP_COLS': ['mega_flavor',\n",
       "  'package_general_shape_desc',\n",
       "  'sweetener_type_desc',\n",
       "  'fruit_presence_claim_desc',\n",
       "  'texture_desc',\n",
       "  'thickness_desc',\n",
       "  'cake_type_desc',\n",
       "  'crust_type_desc',\n",
       "  'bread_type_desc',\n",
       "  'sandwich_bread_type_desc',\n",
       "  'sauce_and_seasoning_type_desc',\n",
       "  'milk_fat_desc',\n",
       "  'roast_type_desc',\n",
       "  'health_wellness_grain_type_desc',\n",
       "  'common_consumer_name_desc',\n",
       "  'brand_high_desc'],\n",
       " 'CATEGORICAL_COLS': ['category_desc',\n",
       "  'sub_category_desc',\n",
       "  'segment_desc',\n",
       "  'sub_segment_desc',\n",
       "  'brand_owner_high_desc'],\n",
       " 'SELECT_COLS': ['CategoryName',\n",
       "  'SubcategoryName',\n",
       "  'SegmentName',\n",
       "  'SubsegmentName',\n",
       "  'CommonConsumerName',\n",
       "  'BrandOwner',\n",
       "  'Brand',\n",
       "  'MultipackCount',\n",
       "  'ContainerWeight',\n",
       "  'Flavor',\n",
       "  'HWNatural',\n",
       "  'HWOrganic',\n",
       "  'HWGlutenFree',\n",
       "  'HWPreservativeFree',\n",
       "  'HWNoGeneticModification',\n",
       "  'PackageGeneralShape',\n",
       "  'SweetenerType',\n",
       "  'Potassium',\n",
       "  'Sodium',\n",
       "  'FruitPresenceClaim',\n",
       "  'Texture',\n",
       "  'Thickness',\n",
       "  'CakeType',\n",
       "  'CrustType',\n",
       "  'BreadType',\n",
       "  'SandwichBreadType',\n",
       "  'SauceAndSeasoningType',\n",
       "  'MilkFat',\n",
       "  'RoastType',\n",
       "  'HormoneFree',\n",
       "  'AntibioticFree',\n",
       "  'HWSoy',\n",
       "  'NoArtificialFlavor',\n",
       "  'NoArtificialColor',\n",
       "  'USDAGrade',\n",
       "  'HWChia',\n",
       "  'HWCornFree',\n",
       "  'HWAntioxidants',\n",
       "  'HWGrassFed',\n",
       "  'HWFiberPresence',\n",
       "  'HWGrainType',\n",
       "  'FruitPresence',\n",
       "  'VegetablePresence',\n",
       "  'HWKosher',\n",
       "  'HWAmaranth',\n",
       "  'HWAncientGrains',\n",
       "  'HWCageFree',\n",
       "  'HWCalciumPresence',\n",
       "  'HWCalorie100',\n",
       "  'HWLowNoCaloriePresence',\n",
       "  'HWCarbConscious',\n",
       "  'HWLowNoCholesterolPresence',\n",
       "  'HWLowNoFatPresence',\n",
       "  'HWFlaxOrHemp',\n",
       "  'HWLowNoGlycemic',\n",
       "  'HWHighFructoseCornSyrupFree',\n",
       "  'HWIronPresence',\n",
       "  'HWLowNoLactosePresence',\n",
       "  'HWLowNoMSG',\n",
       "  'HWMultiGrain',\n",
       "  'HWNutFree',\n",
       "  'HWOilPresence',\n",
       "  'HWOmegaPresence',\n",
       "  'HWProbiotic',\n",
       "  'HWProteinPresence',\n",
       "  'HWQuinoa',\n",
       "  'HWLowNoSaltOrSodiumPresence',\n",
       "  'HWLowNoSaturatedFatPresence',\n",
       "  'HWStevia',\n",
       "  'HWLowNoSugarPresence',\n",
       "  'HWNoArtificialSweetenerPresence',\n",
       "  'HWNoTransFatPresence',\n",
       "  'VitaminPresence',\n",
       "  'MineralPresence',\n",
       "  'LikeItemInputId',\n",
       "  'EarlyStartShipDate',\n",
       "  'ProjectId',\n",
       "  'NonWalmartSRPMSRPAmount',\n",
       "  'WalmartSRPMSRPAmount',\n",
       "  'actual_upc_cd'],\n",
       " 'STD_MEASURE_COLS': ['sodium_desc_amt', 'potassium_desc_amt'],\n",
       " 'DEFAULT_SENSITIVITY_WEIGHTS': {'apo_avg_price': 4,\n",
       "  'common_consumer_name_desc': 4,\n",
       "  'health_wellness_gluten_free_desc': 2,\n",
       "  'health_wellness_natural_desc': 2,\n",
       "  'health_wellness_no_genetic_modification_desc': 2,\n",
       "  'health_wellness_organic_desc': 2,\n",
       "  'health_wellness_preservative_free_desc': 2,\n",
       "  'mega_flavor': 10,\n",
       "  'no_artificial_color_desc': 2,\n",
       "  'no_artificial_flavor_desc': 2,\n",
       "  'sub_category_desc': 2,\n",
       "  'total_weight': 37,\n",
       "  'wm_avg_price': 4},\n",
       " 'weights': {'apo': {'Segment': 1,\n",
       "   'Subcategory': 1,\n",
       "   'Subsegment': 1,\n",
       "   'antibiotic_free_desc': 1,\n",
       "   'apo_avg_price': 4,\n",
       "   'brand_high_desc': 1,\n",
       "   'brand_owner_high_desc': 1,\n",
       "   'bread_type_desc': 1,\n",
       "   'cake_type_desc': 1,\n",
       "   'common_consumer_name_desc': 4,\n",
       "   'crust_type_desc': 1,\n",
       "   'fruit_presence_claim_desc': 1,\n",
       "   'fruit_presence_desc': 1,\n",
       "   'health_wellness_amaranth_desc': 1,\n",
       "   'health_wellness_ancient_grains_desc': 1,\n",
       "   'health_wellness_antioxidants_desc': 1,\n",
       "   'health_wellness_cage_free_desc': 1,\n",
       "   'health_wellness_calcium_presence_desc': 1,\n",
       "   'health_wellness_calorie_111_desc': 1,\n",
       "   'health_wellness_carb_conscious_desc': 1,\n",
       "   'health_wellness_chia_desc': 1,\n",
       "   'health_wellness_corn_free_desc': 1,\n",
       "   'health_wellness_fiber_presence_desc': 1,\n",
       "   'health_wellness_flax_or_hemp_desc': 1,\n",
       "   'health_wellness_gluten_free_desc': 2,\n",
       "   'health_wellness_grain_type_desc': 1,\n",
       "   'health_wellness_grass_fed_desc': 1,\n",
       "   'health_wellness_high_fructose_corn_syrup_free_desc': 1,\n",
       "   'health_wellness_iron_presence_desc': 1,\n",
       "   'health_wellness_kosher_desc': 1,\n",
       "   'health_wellness_low_no_calorie_presence_desc': 1,\n",
       "   'health_wellness_low_no_cholesterol_presence_desc': 1,\n",
       "   'health_wellness_low_no_fat_presence_desc': 1,\n",
       "   'health_wellness_low_no_glycemic_desc': 1,\n",
       "   'health_wellness_low_no_lactose_presence_desc': 1,\n",
       "   'health_wellness_low_no_msg_desc': 1,\n",
       "   'health_wellness_low_no_salt_or_sodium_presence_desc': 1,\n",
       "   'health_wellness_low_no_saturated_fat_presence_desc': 1,\n",
       "   'health_wellness_low_no_sugar_presence_desc': 1,\n",
       "   'health_wellness_multigrain_desc': 1,\n",
       "   'health_wellness_natural_desc': 2,\n",
       "   'health_wellness_no_artificial_sweetener_presence_desc': 1,\n",
       "   'health_wellness_no_genetic_modification_desc': 2,\n",
       "   'health_wellness_no_trans_fat_presence_desc': 1,\n",
       "   'health_wellness_nut_free_desc': 1,\n",
       "   'health_wellness_oil_free_desc': 1,\n",
       "   'health_wellness_omega_presence_desc': 1,\n",
       "   'health_wellness_organic_desc': 2,\n",
       "   'health_wellness_preservative_free_desc': 2,\n",
       "   'health_wellness_probiotic_desc': 1,\n",
       "   'health_wellness_protein_presence_desc': 1,\n",
       "   'health_wellness_quinoa_desc': 1,\n",
       "   'health_wellness_soy_desc': 1,\n",
       "   'health_wellness_stevia_desc': 1,\n",
       "   'hormone_free_desc': 1,\n",
       "   'mean_mean_bias': 1,\n",
       "   'mega_flavor': 10,\n",
       "   'milk_fat_desc': 1,\n",
       "   'mineral_presence_desc': 1,\n",
       "   'multi_desc': 1,\n",
       "   'no_artificial_color_desc': 2,\n",
       "   'no_artificial_flavor_desc': 2,\n",
       "   'package_general_shape_desc': 1,\n",
       "   'potassium_desc_amt': 1,\n",
       "   'roast_type_desc': 1,\n",
       "   'sandwich_bread_type_desc': 1,\n",
       "   'sauce_and_seasoning_type_desc': 1,\n",
       "   'segment_desc': 1,\n",
       "   'sodium_desc_amt': 1,\n",
       "   'std_mean_bias': 1,\n",
       "   'sub_segment_desc': 1,\n",
       "   'sweetener_type_desc': 1,\n",
       "   'texture_desc': 1,\n",
       "   'thickness_desc': 1,\n",
       "   'total_weight': 37,\n",
       "   'usda_grade_desc': 1,\n",
       "   'vegetable_presence_desc': 1,\n",
       "   'vitamin_presence_desc': 1,\n",
       "   'wm_avg_price': 4},\n",
       "  'walmart': {'Segment': 1,\n",
       "   'Subcategory': 1,\n",
       "   'Subsegment': 1,\n",
       "   'antibiotic_free_desc': 1,\n",
       "   'apo_avg_price': 4,\n",
       "   'brand_high_desc': 1,\n",
       "   'brand_owner_high_desc': 1,\n",
       "   'bread_type_desc': 1,\n",
       "   'cake_type_desc': 1,\n",
       "   'common_consumer_name_desc': 4,\n",
       "   'crust_type_desc': 1,\n",
       "   'fruit_presence_claim_desc': 1,\n",
       "   'fruit_presence_desc': 1,\n",
       "   'health_wellness_amaranth_desc': 1,\n",
       "   'health_wellness_ancient_grains_desc': 1,\n",
       "   'health_wellness_antioxidants_desc': 1,\n",
       "   'health_wellness_cage_free_desc': 1,\n",
       "   'health_wellness_calcium_presence_desc': 1,\n",
       "   'health_wellness_calorie_111_desc': 1,\n",
       "   'health_wellness_carb_conscious_desc': 1,\n",
       "   'health_wellness_chia_desc': 1,\n",
       "   'health_wellness_corn_free_desc': 1,\n",
       "   'health_wellness_fiber_presence_desc': 1,\n",
       "   'health_wellness_flax_or_hemp_desc': 1,\n",
       "   'health_wellness_gluten_free_desc': 2,\n",
       "   'health_wellness_grain_type_desc': 1,\n",
       "   'health_wellness_grass_fed_desc': 1,\n",
       "   'health_wellness_high_fructose_corn_syrup_free_desc': 1,\n",
       "   'health_wellness_iron_presence_desc': 1,\n",
       "   'health_wellness_kosher_desc': 1,\n",
       "   'health_wellness_low_no_calorie_presence_desc': 1,\n",
       "   'health_wellness_low_no_cholesterol_presence_desc': 1,\n",
       "   'health_wellness_low_no_fat_presence_desc': 1,\n",
       "   'health_wellness_low_no_glycemic_desc': 1,\n",
       "   'health_wellness_low_no_lactose_presence_desc': 1,\n",
       "   'health_wellness_low_no_msg_desc': 1,\n",
       "   'health_wellness_low_no_salt_or_sodium_presence_desc': 1,\n",
       "   'health_wellness_low_no_saturated_fat_presence_desc': 1,\n",
       "   'health_wellness_low_no_sugar_presence_desc': 1,\n",
       "   'health_wellness_multigrain_desc': 1,\n",
       "   'health_wellness_natural_desc': 2,\n",
       "   'health_wellness_no_artificial_sweetener_presence_desc': 1,\n",
       "   'health_wellness_no_genetic_modification_desc': 2,\n",
       "   'health_wellness_no_trans_fat_presence_desc': 1,\n",
       "   'health_wellness_nut_free_desc': 1,\n",
       "   'health_wellness_oil_free_desc': 1,\n",
       "   'health_wellness_omega_presence_desc': 1,\n",
       "   'health_wellness_organic_desc': 2,\n",
       "   'health_wellness_preservative_free_desc': 2,\n",
       "   'health_wellness_probiotic_desc': 1,\n",
       "   'health_wellness_protein_presence_desc': 1,\n",
       "   'health_wellness_quinoa_desc': 1,\n",
       "   'health_wellness_soy_desc': 1,\n",
       "   'health_wellness_stevia_desc': 1,\n",
       "   'hormone_free_desc': 1,\n",
       "   'mean_mean_bias': 1,\n",
       "   'mega_flavor': 10,\n",
       "   'milk_fat_desc': 1,\n",
       "   'mineral_presence_desc': 1,\n",
       "   'multi_desc': 1,\n",
       "   'no_artificial_color_desc': 2,\n",
       "   'no_artificial_flavor_desc': 2,\n",
       "   'package_general_shape_desc': 1,\n",
       "   'potassium_desc_amt': 1,\n",
       "   'roast_type_desc': 1,\n",
       "   'sandwich_bread_type_desc': 1,\n",
       "   'sauce_and_seasoning_type_desc': 1,\n",
       "   'segment_desc': 1,\n",
       "   'sodium_desc_amt': 1,\n",
       "   'std_mean_bias': 1,\n",
       "   'sub_segment_desc': 1,\n",
       "   'sweetener_type_desc': 1,\n",
       "   'texture_desc': 1,\n",
       "   'thickness_desc': 1,\n",
       "   'total_weight': 37,\n",
       "   'usda_grade_desc': 1,\n",
       "   'vegetable_presence_desc': 1,\n",
       "   'vitamin_presence_desc': 1,\n",
       "   'wm_avg_price': 4}},\n",
       " 'RENAME_COLS': {'AntibioticFree': 'antibiotic_free_desc',\n",
       "  'Brand': 'brand_high_desc',\n",
       "  'BrandOwner': 'brand_owner_high_desc',\n",
       "  'BreadType': 'bread_type_desc',\n",
       "  'CakeType': 'cake_type_desc',\n",
       "  'CategoryName': 'category_desc',\n",
       "  'CommonConsumerName': 'common_consumer_name_desc',\n",
       "  'ContainerWeight': 'total_weight',\n",
       "  'CrustType': 'crust_type_desc',\n",
       "  'EarlyStartShipDate': 'ship_date',\n",
       "  'Flavor': 'mega_flavor',\n",
       "  'FruitPresence': 'fruit_presence_desc',\n",
       "  'FruitPresenceClaim': 'fruit_presence_claim_desc',\n",
       "  'HWAmaranth': 'health_wellness_amaranth_desc',\n",
       "  'HWAncientGrains': 'health_wellness_ancient_grains_desc',\n",
       "  'HWAntioxidants': 'health_wellness_antioxidants_desc',\n",
       "  'HWCageFree': 'health_wellness_cage_free_desc',\n",
       "  'HWCalciumPresence': 'health_wellness_calcium_presence_desc',\n",
       "  'HWCalorie100': 'health_wellness_calorie_100_desc',\n",
       "  'HWCarbConscious': 'health_wellness_carb_conscious_desc',\n",
       "  'HWChia': 'health_wellness_chia_desc',\n",
       "  'HWCornFree': 'health_wellness_corn_free_desc',\n",
       "  'HWFiberPresence': 'health_wellness_fiber_presence_desc',\n",
       "  'HWFlaxOrHemp': 'health_wellness_flax_or_hemp_desc',\n",
       "  'HWGlutenFree': 'health_wellness_gluten_free_desc',\n",
       "  'HWGrainType': 'health_wellness_grain_type_desc',\n",
       "  'HWGrassFed': 'health_wellness_grass_fed_desc',\n",
       "  'HWHighFructoseCornSyrupFree': 'health_wellness_high_fructose_corn_syrup_free_desc',\n",
       "  'HWIronPresence': 'health_wellness_iron_presence_desc',\n",
       "  'HWKosher': 'health_wellness_kosher_desc',\n",
       "  'HWLowNoCaloriePresence': 'health_wellness_low_no_calorie_presence_desc',\n",
       "  'HWLowNoCholesterolPresence': 'health_wellness_low_no_cholesterol_presence_desc',\n",
       "  'HWLowNoFatPresence': 'health_wellness_low_no_fat_presence_desc',\n",
       "  'HWLowNoGlycemic': 'health_wellness_low_no_glycemic_desc',\n",
       "  'HWLowNoLactosePresence': 'health_wellness_low_no_lactose_presence_desc',\n",
       "  'HWLowNoMSG': 'health_wellness_low_no_msg_desc',\n",
       "  'HWLowNoSaltOrSodiumPresence': 'health_wellness_low_no_salt_or_sodium_presence_desc',\n",
       "  'HWLowNoSaturatedFatPresence': 'health_wellness_low_no_saturated_fat_presence_desc',\n",
       "  'HWLowNoSugarPresence': 'health_wellness_low_no_sugar_presence_desc',\n",
       "  'HWMultiGrain': 'health_wellness_multigrain_desc',\n",
       "  'HWNatural': 'health_wellness_natural_desc',\n",
       "  'HWNoArtificialSweetenerPresence': 'health_wellness_no_artificial_sweetener_presence_desc',\n",
       "  'HWNoGeneticModification': 'health_wellness_no_genetic_modification_desc',\n",
       "  'HWNoTransFatPresence': 'health_wellness_no_trans_fat_presence_desc',\n",
       "  'HWNutFree': 'health_wellness_nut_free_desc',\n",
       "  'HWOilPresence': 'health_wellness_oil_free_desc',\n",
       "  'HWOmegaPresence': 'health_wellness_omega_presence_desc',\n",
       "  'HWOrganic': 'health_wellness_organic_desc',\n",
       "  'HWPreservativeFree': 'health_wellness_preservative_free_desc',\n",
       "  'HWProbiotic': 'health_wellness_probiotic_desc',\n",
       "  'HWProteinPresence': 'health_wellness_protein_presence_desc',\n",
       "  'HWQuinoa': 'health_wellness_quinoa_desc',\n",
       "  'HWSoy': 'health_wellness_soy_desc',\n",
       "  'HWStevia': 'health_wellness_stevia_desc',\n",
       "  'HormoneFree': 'hormone_free_desc',\n",
       "  'MilkFat': 'milk_fat_desc',\n",
       "  'MineralPresence': 'mineral_presence_desc',\n",
       "  'MultipackCount': 'multi_desc',\n",
       "  'NoArtificialColor': 'no_artificial_color_desc',\n",
       "  'NoArtificialFlavor': 'no_artificial_flavor_desc',\n",
       "  'NonWalmartSRPMSRPAmount': 'apo_avg_price',\n",
       "  'PackageGeneralShape': 'package_general_shape_desc',\n",
       "  'Potassium': 'potassium_desc_amt',\n",
       "  'RoastType': 'roast_type_desc',\n",
       "  'SandwichBreadType': 'sandwich_bread_type_desc',\n",
       "  'SauceAndSeasoningType': 'sauce_and_seasoning_type_desc',\n",
       "  'SegmentName': 'segment_desc',\n",
       "  'Sodium': 'sodium_desc_amt',\n",
       "  'SubcategoryName': 'sub_category_desc',\n",
       "  'SubsegmentName': 'sub_segment_desc',\n",
       "  'SweetenerType': 'sweetener_type_desc',\n",
       "  'Texture': 'texture_desc',\n",
       "  'Thickness': 'thickness_desc',\n",
       "  'USDAGrade': 'usda_grade_desc',\n",
       "  'VegetablePresence': 'vegetable_presence_desc',\n",
       "  'VitaminPresence': 'vitamin_presence_desc',\n",
       "  'WalmartSRPMSRPAmount': 'wm_avg_price'},\n",
       " 'sensitivity_init': {'Segment': 1,\n",
       "  'Subcategory': 1,\n",
       "  'Subsegment': 1,\n",
       "  'antibiotic_free_desc': 1,\n",
       "  'apo_avg_price': 1,\n",
       "  'brand_high_desc': 1,\n",
       "  'brand_owner_high_desc': 1,\n",
       "  'bread_type_desc': 1,\n",
       "  'cake_type_desc': 1,\n",
       "  'common_consumer_name_desc': 1,\n",
       "  'crust_type_desc': 1,\n",
       "  'fruit_presence_claim_desc': 1,\n",
       "  'fruit_presence_desc': 1,\n",
       "  'health_wellness_amaranth_desc': 1,\n",
       "  'health_wellness_ancient_grains_desc': 1,\n",
       "  'health_wellness_antioxidants_desc': 1,\n",
       "  'health_wellness_cage_free_desc': 1,\n",
       "  'health_wellness_calcium_presence_desc': 1,\n",
       "  'health_wellness_calorie_111_desc': 1,\n",
       "  'health_wellness_carb_conscious_desc': 1,\n",
       "  'health_wellness_chia_desc': 1,\n",
       "  'health_wellness_corn_free_desc': 1,\n",
       "  'health_wellness_fiber_presence_desc': 1,\n",
       "  'health_wellness_flax_or_hemp_desc': 1,\n",
       "  'health_wellness_gluten_free_desc': 1,\n",
       "  'health_wellness_grain_type_desc': 1,\n",
       "  'health_wellness_grass_fed_desc': 1,\n",
       "  'health_wellness_high_fructose_corn_syrup_free_desc': 1,\n",
       "  'health_wellness_iron_presence_desc': 1,\n",
       "  'health_wellness_kosher_desc': 1,\n",
       "  'health_wellness_low_no_calorie_presence_desc': 1,\n",
       "  'health_wellness_low_no_cholesterol_presence_desc': 1,\n",
       "  'health_wellness_low_no_fat_presence_desc': 1,\n",
       "  'health_wellness_low_no_glycemic_desc': 1,\n",
       "  'health_wellness_low_no_lactose_presence_desc': 1,\n",
       "  'health_wellness_low_no_msg_desc': 1,\n",
       "  'health_wellness_low_no_salt_or_sodium_presence_desc': 1,\n",
       "  'health_wellness_low_no_saturated_fat_presence_desc': 1,\n",
       "  'health_wellness_low_no_sugar_presence_desc': 1,\n",
       "  'health_wellness_multigrain_desc': 1,\n",
       "  'health_wellness_natural_desc': 1,\n",
       "  'health_wellness_no_artificial_sweetener_presence_desc': 1,\n",
       "  'health_wellness_no_genetic_modification_desc': 1,\n",
       "  'health_wellness_no_trans_fat_presence_desc': 1,\n",
       "  'health_wellness_nut_free_desc': 1,\n",
       "  'health_wellness_oil_free_desc': 1,\n",
       "  'health_wellness_omega_presence_desc': 1,\n",
       "  'health_wellness_organic_desc': 1,\n",
       "  'health_wellness_preservative_free_desc': 1,\n",
       "  'health_wellness_probiotic_desc': 1,\n",
       "  'health_wellness_protein_presence_desc': 1,\n",
       "  'health_wellness_quinoa_desc': 1,\n",
       "  'health_wellness_soy_desc': 1,\n",
       "  'health_wellness_stevia_desc': 1,\n",
       "  'hormone_free_desc': 1,\n",
       "  'mega_flavor': 1,\n",
       "  'milk_fat_desc': 1,\n",
       "  'mineral_presence_desc': 1,\n",
       "  'multi_desc': 1,\n",
       "  'no_artificial_color_desc': 1,\n",
       "  'no_artificial_flavor_desc': 1,\n",
       "  'package_general_shape_desc': 1,\n",
       "  'potassium_desc_amt': 1,\n",
       "  'roast_type_desc': 1,\n",
       "  'sandwich_bread_type_desc': 1,\n",
       "  'sauce_and_seasoning_type_desc': 1,\n",
       "  'segment_desc': 1,\n",
       "  'sodium_desc_amt': 1,\n",
       "  'sub_segment_desc': 1,\n",
       "  'sweetener_type_desc': 1,\n",
       "  'texture_desc': 1,\n",
       "  'thickness_desc': 1,\n",
       "  'total_weight': 1,\n",
       "  'usda_grade_desc': 1,\n",
       "  'vegetable_presence_desc': 1,\n",
       "  'vitamin_presence_desc': 1,\n",
       "  'wm_avg_price': 1}}"
      ]
     },
     "execution_count": 26,
     "metadata": {},
     "output_type": "execute_result"
    }
   ],
   "source": [
    "get_params_yaml()"
   ]
  },
  {
   "cell_type": "code",
   "execution_count": 311,
   "id": "8dee5024",
   "metadata": {},
   "outputs": [],
   "source": [
    "import pandas as pd"
   ]
  },
  {
   "cell_type": "code",
   "execution_count": 312,
   "id": "1b35487b",
   "metadata": {},
   "outputs": [],
   "source": [
    "voc = ['walmart', 'us', 'market', 'box', 'this', 'is', 'sample']"
   ]
  },
  {
   "cell_type": "code",
   "execution_count": 320,
   "id": "be8475df",
   "metadata": {},
   "outputs": [],
   "source": [
    "df = {'label': ['yes', 'no'],\n",
    "     'col1': [['walmart', 'us', 'market', 'box', 'walmart'], \n",
    "              ['this', 'is', 'sample', 'market', 'sample']]}"
   ]
  },
  {
   "cell_type": "code",
   "execution_count": 304,
   "id": "901089c3",
   "metadata": {},
   "outputs": [],
   "source": [
    "df = pd.DataFrame(df)"
   ]
  },
  {
   "cell_type": "code",
   "execution_count": 305,
   "id": "314e3fa6",
   "metadata": {},
   "outputs": [],
   "source": [
    "label = []\n",
    "word = []\n",
    "freq = []\n",
    "for j in range(len(voc)):\n",
    "    for i in range(df.shape[0]):\n",
    "        label.append(df.iloc[i]['label'])\n",
    "        word.append(voc[j])\n",
    "        freq.append(df.iloc[i]['col1'].count(voc[j]))"
   ]
  },
  {
   "cell_type": "code",
   "execution_count": 306,
   "id": "bfa628e8",
   "metadata": {},
   "outputs": [],
   "source": [
    "data = list(zip(label,word, freq))"
   ]
  },
  {
   "cell_type": "code",
   "execution_count": 307,
   "id": "78d3ea7e",
   "metadata": {},
   "outputs": [],
   "source": [
    "df = pd.DataFrame(data, columns=['labels', 'word', 'value'])"
   ]
  },
  {
   "cell_type": "code",
   "execution_count": 308,
   "id": "39b12dde",
   "metadata": {},
   "outputs": [],
   "source": [
    "pvt = df.pivot('labels', 'word', 'value')"
   ]
  },
  {
   "cell_type": "code",
   "execution_count": 309,
   "id": "a5ec7b26",
   "metadata": {},
   "outputs": [],
   "source": [
    "reshaped_df = pvt.rename_axis(None, axis=1).reset_index()"
   ]
  },
  {
   "cell_type": "code",
   "execution_count": 310,
   "id": "0d990ca3",
   "metadata": {},
   "outputs": [
    {
     "data": {
      "text/html": [
       "<div>\n",
       "<style scoped>\n",
       "    .dataframe tbody tr th:only-of-type {\n",
       "        vertical-align: middle;\n",
       "    }\n",
       "\n",
       "    .dataframe tbody tr th {\n",
       "        vertical-align: top;\n",
       "    }\n",
       "\n",
       "    .dataframe thead th {\n",
       "        text-align: right;\n",
       "    }\n",
       "</style>\n",
       "<table border=\"1\" class=\"dataframe\">\n",
       "  <thead>\n",
       "    <tr style=\"text-align: right;\">\n",
       "      <th></th>\n",
       "      <th>labels</th>\n",
       "      <th>box</th>\n",
       "      <th>is</th>\n",
       "      <th>market</th>\n",
       "      <th>sample</th>\n",
       "      <th>this</th>\n",
       "      <th>us</th>\n",
       "      <th>walmart</th>\n",
       "    </tr>\n",
       "  </thead>\n",
       "  <tbody>\n",
       "    <tr>\n",
       "      <th>0</th>\n",
       "      <td>no</td>\n",
       "      <td>0</td>\n",
       "      <td>1</td>\n",
       "      <td>1</td>\n",
       "      <td>2</td>\n",
       "      <td>1</td>\n",
       "      <td>0</td>\n",
       "      <td>0</td>\n",
       "    </tr>\n",
       "    <tr>\n",
       "      <th>1</th>\n",
       "      <td>yes</td>\n",
       "      <td>1</td>\n",
       "      <td>0</td>\n",
       "      <td>1</td>\n",
       "      <td>0</td>\n",
       "      <td>0</td>\n",
       "      <td>0</td>\n",
       "      <td>2</td>\n",
       "    </tr>\n",
       "  </tbody>\n",
       "</table>\n",
       "</div>"
      ],
      "text/plain": [
       "  labels  box  is  market  sample  this  us  walmart\n",
       "0     no    0   1       1       2     1   0        0\n",
       "1    yes    1   0       1       0     0   0        2"
      ]
     },
     "execution_count": 310,
     "metadata": {},
     "output_type": "execute_result"
    }
   ],
   "source": [
    "reshaped_df"
   ]
  },
  {
   "cell_type": "code",
   "execution_count": null,
   "id": "3f1fb6e8",
   "metadata": {},
   "outputs": [],
   "source": []
  },
  {
   "cell_type": "code",
   "execution_count": 328,
   "id": "d8fd03c1",
   "metadata": {},
   "outputs": [],
   "source": [
    "df = pd.DataFrame([\n",
    "    { 'label': 'spam', 'message': 'this is sample message' },\n",
    "    { 'label': 'ham', 'message': 'this is another sample messagae' }\n",
    "])"
   ]
  },
  {
   "cell_type": "code",
   "execution_count": 329,
   "id": "a591cd32",
   "metadata": {},
   "outputs": [],
   "source": [
    "df = pd.DataFrame(df)"
   ]
  },
  {
   "cell_type": "code",
   "execution_count": 330,
   "id": "b3606be7",
   "metadata": {},
   "outputs": [
    {
     "data": {
      "text/html": [
       "<div>\n",
       "<style scoped>\n",
       "    .dataframe tbody tr th:only-of-type {\n",
       "        vertical-align: middle;\n",
       "    }\n",
       "\n",
       "    .dataframe tbody tr th {\n",
       "        vertical-align: top;\n",
       "    }\n",
       "\n",
       "    .dataframe thead th {\n",
       "        text-align: right;\n",
       "    }\n",
       "</style>\n",
       "<table border=\"1\" class=\"dataframe\">\n",
       "  <thead>\n",
       "    <tr style=\"text-align: right;\">\n",
       "      <th></th>\n",
       "      <th>label</th>\n",
       "      <th>message</th>\n",
       "    </tr>\n",
       "  </thead>\n",
       "  <tbody>\n",
       "    <tr>\n",
       "      <th>0</th>\n",
       "      <td>spam</td>\n",
       "      <td>this is sample message</td>\n",
       "    </tr>\n",
       "    <tr>\n",
       "      <th>1</th>\n",
       "      <td>ham</td>\n",
       "      <td>this is another sample messagae</td>\n",
       "    </tr>\n",
       "  </tbody>\n",
       "</table>\n",
       "</div>"
      ],
      "text/plain": [
       "  label                          message\n",
       "0  spam           this is sample message\n",
       "1   ham  this is another sample messagae"
      ]
     },
     "execution_count": 330,
     "metadata": {},
     "output_type": "execute_result"
    }
   ],
   "source": [
    "df"
   ]
  },
  {
   "cell_type": "code",
   "execution_count": 331,
   "id": "66fae850",
   "metadata": {},
   "outputs": [],
   "source": [
    "from sklearn.feature_extraction.text import CountVectorizer"
   ]
  },
  {
   "cell_type": "code",
   "execution_count": 333,
   "id": "2f8beda0",
   "metadata": {},
   "outputs": [
    {
     "data": {
      "text/html": [
       "<div>\n",
       "<style scoped>\n",
       "    .dataframe tbody tr th:only-of-type {\n",
       "        vertical-align: middle;\n",
       "    }\n",
       "\n",
       "    .dataframe tbody tr th {\n",
       "        vertical-align: top;\n",
       "    }\n",
       "\n",
       "    .dataframe thead th {\n",
       "        text-align: right;\n",
       "    }\n",
       "</style>\n",
       "<table border=\"1\" class=\"dataframe\">\n",
       "  <thead>\n",
       "    <tr style=\"text-align: right;\">\n",
       "      <th></th>\n",
       "      <th>another</th>\n",
       "      <th>is</th>\n",
       "      <th>messagae</th>\n",
       "      <th>message</th>\n",
       "      <th>sample</th>\n",
       "      <th>this</th>\n",
       "    </tr>\n",
       "    <tr>\n",
       "      <th>label</th>\n",
       "      <th></th>\n",
       "      <th></th>\n",
       "      <th></th>\n",
       "      <th></th>\n",
       "      <th></th>\n",
       "      <th></th>\n",
       "    </tr>\n",
       "  </thead>\n",
       "  <tbody>\n",
       "    <tr>\n",
       "      <th>spam</th>\n",
       "      <td>0</td>\n",
       "      <td>1</td>\n",
       "      <td>0</td>\n",
       "      <td>1</td>\n",
       "      <td>1</td>\n",
       "      <td>1</td>\n",
       "    </tr>\n",
       "    <tr>\n",
       "      <th>ham</th>\n",
       "      <td>1</td>\n",
       "      <td>1</td>\n",
       "      <td>1</td>\n",
       "      <td>0</td>\n",
       "      <td>1</td>\n",
       "      <td>1</td>\n",
       "    </tr>\n",
       "  </tbody>\n",
       "</table>\n",
       "</div>"
      ],
      "text/plain": [
       "       another  is  messagae  message  sample  this\n",
       "label                                              \n",
       "spam         0   1         0        1       1     1\n",
       "ham          1   1         1        0       1     1"
      ]
     },
     "execution_count": 333,
     "metadata": {},
     "output_type": "execute_result"
    }
   ],
   "source": [
    "vectorizer = CountVectorizer()\n",
    "\n",
    "# Use the content column instead of our single text variable\n",
    "matrix = vectorizer.fit_transform(df.message)\n",
    "counts = pd.DataFrame(matrix.toarray(),\n",
    "                  index=df.label,\n",
    "                  columns=vectorizer.get_feature_names())\n",
    "\n",
    "counts.head()"
   ]
  },
  {
   "cell_type": "code",
   "execution_count": null,
   "id": "63df99a7",
   "metadata": {},
   "outputs": [],
   "source": []
  }
 ],
 "metadata": {
  "kernelspec": {
   "display_name": "Python 3",
   "language": "python",
   "name": "python3"
  },
  "language_info": {
   "codemirror_mode": {
    "name": "ipython",
    "version": 3
   },
   "file_extension": ".py",
   "mimetype": "text/x-python",
   "name": "python",
   "nbconvert_exporter": "python",
   "pygments_lexer": "ipython3",
   "version": "3.6.5"
  }
 },
 "nbformat": 4,
 "nbformat_minor": 5
}
