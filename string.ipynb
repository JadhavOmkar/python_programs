{
 "cells": [
  {
   "cell_type": "markdown",
   "id": "bd6845e0",
   "metadata": {},
   "source": [
    "## Sequence "
   ]
  },
  {
   "cell_type": "code",
   "execution_count": 1,
   "id": "caac4a77",
   "metadata": {},
   "outputs": [],
   "source": [
    "S = 'omkar'"
   ]
  },
  {
   "cell_type": "code",
   "execution_count": 3,
   "id": "0b621c04",
   "metadata": {},
   "outputs": [
    {
     "data": {
      "text/plain": [
       "'omkar'"
      ]
     },
     "execution_count": 3,
     "metadata": {},
     "output_type": "execute_result"
    }
   ],
   "source": [
    "S"
   ]
  },
  {
   "cell_type": "code",
   "execution_count": 4,
   "id": "ffd3f7d6",
   "metadata": {},
   "outputs": [
    {
     "data": {
      "text/plain": [
       "'o'"
      ]
     },
     "execution_count": 4,
     "metadata": {},
     "output_type": "execute_result"
    }
   ],
   "source": [
    "S[0]"
   ]
  },
  {
   "cell_type": "markdown",
   "id": "cedcf8ff",
   "metadata": {},
   "source": [
    "S[I:J] means give me eveything from I upto not including J."
   ]
  },
  {
   "cell_type": "code",
   "execution_count": 7,
   "id": "2f833ce7",
   "metadata": {},
   "outputs": [
    {
     "data": {
      "text/plain": [
       "'mkar'"
      ]
     },
     "execution_count": 7,
     "metadata": {},
     "output_type": "execute_result"
    }
   ],
   "source": [
    "S[1:]"
   ]
  },
  {
   "cell_type": "code",
   "execution_count": 8,
   "id": "3e6ef3ed",
   "metadata": {},
   "outputs": [
    {
     "data": {
      "text/plain": [
       "'om'"
      ]
     },
     "execution_count": 8,
     "metadata": {},
     "output_type": "execute_result"
    }
   ],
   "source": [
    "S[:2]"
   ]
  },
  {
   "cell_type": "code",
   "execution_count": 9,
   "id": "049b1894",
   "metadata": {},
   "outputs": [
    {
     "data": {
      "text/plain": [
       "'omka'"
      ]
     },
     "execution_count": 9,
     "metadata": {},
     "output_type": "execute_result"
    }
   ],
   "source": [
    "S[:-1]"
   ]
  },
  {
   "cell_type": "code",
   "execution_count": 10,
   "id": "6992baaa",
   "metadata": {},
   "outputs": [
    {
     "data": {
      "text/plain": [
       "'omka'"
      ]
     },
     "execution_count": 10,
     "metadata": {},
     "output_type": "execute_result"
    }
   ],
   "source": [
    "S[0:-1]"
   ]
  },
  {
   "cell_type": "code",
   "execution_count": 11,
   "id": "3263764d",
   "metadata": {},
   "outputs": [
    {
     "data": {
      "text/plain": [
       "'omkar'"
      ]
     },
     "execution_count": 11,
     "metadata": {},
     "output_type": "execute_result"
    }
   ],
   "source": [
    "S[:]"
   ]
  },
  {
   "cell_type": "code",
   "execution_count": 12,
   "id": "a25c21e3",
   "metadata": {},
   "outputs": [
    {
     "data": {
      "text/plain": [
       "'omkar'"
      ]
     },
     "execution_count": 12,
     "metadata": {},
     "output_type": "execute_result"
    }
   ],
   "source": [
    "S[:len(S)]"
   ]
  },
  {
   "cell_type": "code",
   "execution_count": 20,
   "id": "c6a5de27",
   "metadata": {},
   "outputs": [
    {
     "data": {
      "text/plain": [
       "-1"
      ]
     },
     "execution_count": 20,
     "metadata": {},
     "output_type": "execute_result"
    }
   ],
   "source": [
    "S.find('j')"
   ]
  },
  {
   "cell_type": "code",
   "execution_count": 21,
   "id": "44b95186",
   "metadata": {},
   "outputs": [
    {
     "data": {
      "text/plain": [
       "'omKAR'"
      ]
     },
     "execution_count": 21,
     "metadata": {},
     "output_type": "execute_result"
    }
   ],
   "source": [
    "S.replace('kar', 'KAR')"
   ]
  },
  {
   "cell_type": "code",
   "execution_count": 22,
   "id": "80d0efd1",
   "metadata": {},
   "outputs": [
    {
     "data": {
      "text/plain": [
       "'omkar'"
      ]
     },
     "execution_count": 22,
     "metadata": {},
     "output_type": "execute_result"
    }
   ],
   "source": [
    "S"
   ]
  },
  {
   "cell_type": "code",
   "execution_count": 23,
   "id": "f9849f11",
   "metadata": {},
   "outputs": [
    {
     "data": {
      "text/plain": [
       "['__add__',\n",
       " '__class__',\n",
       " '__contains__',\n",
       " '__delattr__',\n",
       " '__dir__',\n",
       " '__doc__',\n",
       " '__eq__',\n",
       " '__format__',\n",
       " '__ge__',\n",
       " '__getattribute__',\n",
       " '__getitem__',\n",
       " '__getnewargs__',\n",
       " '__gt__',\n",
       " '__hash__',\n",
       " '__init__',\n",
       " '__init_subclass__',\n",
       " '__iter__',\n",
       " '__le__',\n",
       " '__len__',\n",
       " '__lt__',\n",
       " '__mod__',\n",
       " '__mul__',\n",
       " '__ne__',\n",
       " '__new__',\n",
       " '__reduce__',\n",
       " '__reduce_ex__',\n",
       " '__repr__',\n",
       " '__rmod__',\n",
       " '__rmul__',\n",
       " '__setattr__',\n",
       " '__sizeof__',\n",
       " '__str__',\n",
       " '__subclasshook__',\n",
       " 'capitalize',\n",
       " 'casefold',\n",
       " 'center',\n",
       " 'count',\n",
       " 'encode',\n",
       " 'endswith',\n",
       " 'expandtabs',\n",
       " 'find',\n",
       " 'format',\n",
       " 'format_map',\n",
       " 'index',\n",
       " 'isalnum',\n",
       " 'isalpha',\n",
       " 'isdecimal',\n",
       " 'isdigit',\n",
       " 'isidentifier',\n",
       " 'islower',\n",
       " 'isnumeric',\n",
       " 'isprintable',\n",
       " 'isspace',\n",
       " 'istitle',\n",
       " 'isupper',\n",
       " 'join',\n",
       " 'ljust',\n",
       " 'lower',\n",
       " 'lstrip',\n",
       " 'maketrans',\n",
       " 'partition',\n",
       " 'replace',\n",
       " 'rfind',\n",
       " 'rindex',\n",
       " 'rjust',\n",
       " 'rpartition',\n",
       " 'rsplit',\n",
       " 'rstrip',\n",
       " 'split',\n",
       " 'splitlines',\n",
       " 'startswith',\n",
       " 'strip',\n",
       " 'swapcase',\n",
       " 'title',\n",
       " 'translate',\n",
       " 'upper',\n",
       " 'zfill']"
      ]
     },
     "execution_count": 23,
     "metadata": {},
     "output_type": "execute_result"
    }
   ],
   "source": [
    "dir(S)"
   ]
  },
  {
   "cell_type": "code",
   "execution_count": 25,
   "id": "ce31cf56",
   "metadata": {},
   "outputs": [],
   "source": [
    "#\n",
    "# #\n",
    "# # #\n",
    "# # # #"
   ]
  },
  {
   "cell_type": "code",
   "execution_count": 34,
   "id": "df7e937f",
   "metadata": {},
   "outputs": [
    {
     "name": "stdout",
     "output_type": "stream",
     "text": [
      "# \n",
      "# # \n",
      "# # # \n",
      "# # # # \n"
     ]
    }
   ],
   "source": [
    "for j in range(4):\n",
    "    for i in range(j+1):\n",
    "        print('# ', end=\"\")\n",
    "    print(\"\")"
   ]
  },
  {
   "cell_type": "code",
   "execution_count": 36,
   "id": "a955206f",
   "metadata": {},
   "outputs": [
    {
     "name": "stdout",
     "output_type": "stream",
     "text": [
      "# # # # \n",
      "# # # \n",
      "# # \n",
      "# \n"
     ]
    }
   ],
   "source": [
    "for j in range(4):\n",
    "    for i in range(4-j):\n",
    "        print('# ', end=\"\")\n",
    "    print(\"\")"
   ]
  },
  {
   "cell_type": "code",
   "execution_count": 44,
   "id": "3860ca50",
   "metadata": {},
   "outputs": [],
   "source": [
    "S = 'Omkarr'"
   ]
  },
  {
   "cell_type": "code",
   "execution_count": 45,
   "id": "6d36e571",
   "metadata": {},
   "outputs": [
    {
     "data": {
      "text/plain": [
       "[79, 109, 107, 97, 114, 114]"
      ]
     },
     "execution_count": 45,
     "metadata": {},
     "output_type": "execute_result"
    }
   ],
   "source": [
    "# list\n",
    "[ord(x) for x in S]"
   ]
  },
  {
   "cell_type": "code",
   "execution_count": 46,
   "id": "68516e05",
   "metadata": {},
   "outputs": [
    {
     "data": {
      "text/plain": [
       "{79, 97, 107, 109, 114}"
      ]
     },
     "execution_count": 46,
     "metadata": {},
     "output_type": "execute_result"
    }
   ],
   "source": [
    "# set\n",
    "{ ord(x) for x in S}"
   ]
  },
  {
   "cell_type": "code",
   "execution_count": 47,
   "id": "007cdacc",
   "metadata": {},
   "outputs": [
    {
     "data": {
      "text/plain": [
       "{0: 79, 1: 109, 2: 107, 3: 97, 4: 114, 5: 114}"
      ]
     },
     "execution_count": 47,
     "metadata": {},
     "output_type": "execute_result"
    }
   ],
   "source": [
    "# dict\n",
    "{i: ord(S[i]) for i in range(len(S))}"
   ]
  },
  {
   "cell_type": "code",
   "execution_count": 48,
   "id": "d4f6c24c",
   "metadata": {},
   "outputs": [
    {
     "data": {
      "text/plain": [
       "{'O': 79, 'm': 109, 'k': 107, 'a': 97, 'r': 114}"
      ]
     },
     "execution_count": 48,
     "metadata": {},
     "output_type": "execute_result"
    }
   ],
   "source": [
    "{x: ord(x) for x in S}"
   ]
  },
  {
   "cell_type": "code",
   "execution_count": null,
   "id": "aa521b11",
   "metadata": {},
   "outputs": [],
   "source": []
  }
 ],
 "metadata": {
  "kernelspec": {
   "display_name": "Python 3",
   "language": "python",
   "name": "python3"
  },
  "language_info": {
   "codemirror_mode": {
    "name": "ipython",
    "version": 3
   },
   "file_extension": ".py",
   "mimetype": "text/x-python",
   "name": "python",
   "nbconvert_exporter": "python",
   "pygments_lexer": "ipython3",
   "version": "3.6.5"
  }
 },
 "nbformat": 4,
 "nbformat_minor": 5
}
